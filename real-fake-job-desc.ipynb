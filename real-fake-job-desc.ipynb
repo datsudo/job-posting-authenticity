{
 "cells": [
  {
   "cell_type": "markdown",
   "id": "460eb6c2-7c71-434c-8adb-389ed26045b0",
   "metadata": {},
   "source": [
    "# Predicting Job Posting Authenticity\n",
    "\n",
    "This project will explore the dataset of ~18 thousand real and fake job postings via statistical analysis."
   ]
  }
 ],
 "metadata": {
  "kernelspec": {
   "display_name": "Python 3 (ipykernel)",
   "language": "python",
   "name": "python3"
  },
  "language_info": {
   "codemirror_mode": {
    "name": "ipython",
    "version": 3
   },
   "file_extension": ".py",
   "mimetype": "text/x-python",
   "name": "python",
   "nbconvert_exporter": "python",
   "pygments_lexer": "ipython3",
   "version": "3.12.4"
  }
 },
 "nbformat": 4,
 "nbformat_minor": 5
}
